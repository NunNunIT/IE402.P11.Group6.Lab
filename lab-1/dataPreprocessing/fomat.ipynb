{
 "cells": [
  {
   "cell_type": "code",
   "execution_count": 11,
   "metadata": {},
   "outputs": [],
   "source": [
    "import json\n",
    "import pandas as pd\n",
    "import os\n",
    "\n",
    "# Bước 1: Đọc file JSON\n",
    "file_path = './places_HCM_2024.json'\n",
    "\n",
    "data_list = []\n",
    "\n",
    "with open(file_path, 'r', encoding='utf-8') as f:\n",
    "    for line in f:\n",
    "        data_list.append(json.loads(line))  # Đọc từng dòng JSON và thêm vào list\n",
    "\n",
    "# Bước 2: Tạo DataFrame từ danh sách dữ liệu\n",
    "df = pd.DataFrame(data_list)\n",
    "\n",
    "# Bước 3: Xử lý cột location/lat và location/lng, chuyển thành float\n",
    "df['location/lat'] = pd.to_numeric(df['location/lat'], errors='coerce')  # Chuyển đổi và xử lý lỗi\n",
    "df['location/lng'] = pd.to_numeric(df['location/lng'], errors='coerce')  # Chuyển đổi và xử lý lỗi\n",
    "\n",
    "# Bước 4: Drop cột không cần thiết như 'categories'\n",
    "# df = df.drop(columns=['categories'], errors='ignore')\n"
   ]
  },
  {
   "cell_type": "code",
   "execution_count": 12,
   "metadata": {},
   "outputs": [],
   "source": [
    "# Function to classify based on categoryName\n",
    "def classify_category(category_name):\n",
    "    category_name = category_name.lower()  # Convert to lowercase for case insensitive comparison\n",
    "    \n",
    "    if any(keyword in category_name for keyword in [\"quán nước\", \"nước\", \"cafe\", \"coffee\", \"cà phê\", \"trà sữa\", \"trà trân châu\"]):\n",
    "        return 'df_drinks'\n",
    "    elif any(keyword in category_name for keyword in [\"nhà hàng\", \"ăn uống\", \"đồ ăn\", \"quán ăn\"]):\n",
    "        return 'df_foods'\n",
    "    elif any(keyword in category_name for keyword in [\"nhà nghỉ\", \"khách sạn\", \"nhà trọ\"]):\n",
    "        return 'df_hotels'\n",
    "    elif any(keyword in category_name for keyword in [\"bệnh viện\", \"thẩm mỹ\"]):\n",
    "        return 'df_hospitals'\n",
    "    elif \"công viên\" in category_name:\n",
    "        return 'df_parks'\n",
    "    elif any(keyword in category_name for keyword in [\"chùa\", \"nhà thờ\"]):\n",
    "        return 'df_temples'\n",
    "    elif any(keyword in category_name for keyword in [\"rạp chiếu phim\", \"rạp\"]):\n",
    "        return 'df_theaters'\n",
    "    elif any(keyword in category_name for keyword in [\"cửa hàng\", \"đại lý\"]):\n",
    "        return 'df_shops'\n",
    "    elif any(keyword in category_name for keyword in [\"trường\", \"đại học\"]):\n",
    "        return 'df_schools'\n",
    "    elif any(keyword in category_name for keyword in [\"tóc\", \"làm tóc\", \"cắt tóc\"]):\n",
    "        return 'df_salons'\n",
    "    elif any(keyword in category_name for keyword in [\"supermarket\", \"siêu thị\", \"chợ\"]):\n",
    "        return 'df_market'\n",
    "    elif \"sửa chữa\" in category_name:\n",
    "        return 'df_garas'\n",
    "    elif any(keyword in category_name for keyword in [\"chung cư\", \"khu liên hợp căn hộ\"]):\n",
    "        return 'df_apartments'\n",
    "    elif any(keyword in category_name for keyword in [\"nhà xưởng\", \"nhà máy\", \"sản xuất\"]):\n",
    "        return 'df_factory'\n",
    "    elif any(keyword in category_name for keyword in [\"công ty\"]):\n",
    "        return 'df_company'\n",
    "    else:\n",
    "        return 'df_default'"
   ]
  },
  {
   "cell_type": "code",
   "execution_count": 13,
   "metadata": {},
   "outputs": [],
   "source": [
    "# Bước 5: Áp dụng phân loại\n",
    "df['category_group'] = df['categoryName'].apply(classify_category)\n",
    "\n",
    "# Bước 6: Tạo các DataFrame nhỏ từ phân loại\n",
    "category_dfs = {}\n",
    "categories = df['category_group'].unique()\n",
    "\n",
    "for category in categories:\n",
    "    category_dfs[category] = df[df['category_group'] == category]\n"
   ]
  },
  {
   "cell_type": "code",
   "execution_count": 14,
   "metadata": {},
   "outputs": [
    {
     "name": "stdout",
     "output_type": "stream",
     "text": [
      "Files have been exported successfully.\n"
     ]
    }
   ],
   "source": [
    "# Bước 7: Xuất các DataFrame thành file JSON\n",
    "output_dir = './classified_places/'\n",
    "os.makedirs(output_dir, exist_ok=True)  # Tạo thư mục nếu chưa có\n",
    "\n",
    "for category, category_df in category_dfs.items():\n",
    "    output_file = os.path.join(output_dir, f'{category}.json')  # Define the output file path for each category\n",
    "    category_df.to_json(output_file, orient='records', force_ascii=False, indent=4)  # Export to JSON\n",
    "\n",
    "print(\"Files have been exported successfully.\")"
   ]
  },
  {
   "cell_type": "code",
   "execution_count": null,
   "metadata": {},
   "outputs": [],
   "source": []
  }
 ],
 "metadata": {
  "kernelspec": {
   "display_name": "Python 3",
   "language": "python",
   "name": "python3"
  },
  "language_info": {
   "codemirror_mode": {
    "name": "ipython",
    "version": 3
   },
   "file_extension": ".py",
   "mimetype": "text/x-python",
   "name": "python",
   "nbconvert_exporter": "python",
   "pygments_lexer": "ipython3",
   "version": "3.9.13"
  }
 },
 "nbformat": 4,
 "nbformat_minor": 2
}
